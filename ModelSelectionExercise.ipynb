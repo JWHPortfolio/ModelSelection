{
 "cells": [
  {
   "cell_type": "markdown",
   "id": "041d58ec",
   "metadata": {},
   "source": [
    "Links to the notes discussed in the video\n",
    "* [Model Selection Overview](./ModelSelect.pdf)\n",
    "* [Model Types](./ModelType.pdf)\n",
    "* [Model Decision Factors](./ModelDecisionFactors.pdf)\n",
    "* [Generalization Techiques](./Generalization.pdf)\n",
    "\n",
    "You are to explore the data set on speed dating and construct two models that provide some insight such as grouping or predictions.  The models must come from different model areas such as listed as categories in the [ModelTypes](./ModelTypes.pdf) document.  You must justify your answer considering the data and the prediction value.\n",
    "\n",
    "The data is contained in [SpeedDatingData.csv](SpeedDatingData.csv).  The values are detailed in [SpeedDatingKey.md](./SpeedDatingKey.md).  The directory also contains the original key document - SpeedDatingDataKey.docx but jupyter lab is unable to render it.  You are free to render it outside of jupyter lab if something didn't translater clearly.  The open source tool [pandoc](https://pandoc.org/installing.html) was used to perform the translation.  It is useful for almost any translation and works in all major operating systems."
   ]
  },
  {
   "cell_type": "markdown",
   "id": "ed506878",
   "metadata": {},
   "source": [
    "# Model 1"
   ]
  },
  {
   "cell_type": "markdown",
   "id": "a77f6ca7",
   "metadata": {},
   "source": [
    "## Outline the challenge "
   ]
  },
  {
   "cell_type": "markdown",
   "id": "55c1518d",
   "metadata": {},
   "source": [
    "Place text answer here - "
   ]
  },
  {
   "cell_type": "markdown",
   "id": "e69e0703",
   "metadata": {},
   "source": [
    "### Select the features and note in comments why they were selected"
   ]
  },
  {
   "cell_type": "code",
   "execution_count": null,
   "id": "0489891d",
   "metadata": {},
   "outputs": [],
   "source": [
    "# Show the code for data ingest and feature selection"
   ]
  },
  {
   "cell_type": "markdown",
   "id": "598ee0f6",
   "metadata": {},
   "source": [
    "### Provide feature processing such as getting rid of empty cells etc."
   ]
  },
  {
   "cell_type": "code",
   "execution_count": null,
   "id": "d99dfaec",
   "metadata": {},
   "outputs": [],
   "source": [
    "# Show the code for feature processing"
   ]
  },
  {
   "cell_type": "markdown",
   "id": "d1078b23",
   "metadata": {},
   "source": [
    "### Model Selection"
   ]
  },
  {
   "cell_type": "markdown",
   "id": "719a46c7",
   "metadata": {},
   "source": [
    "Outline the rationale for selecting the model noting how its capabilities address your challenge"
   ]
  },
  {
   "cell_type": "markdown",
   "id": "88f76f22",
   "metadata": {},
   "source": [
    "Place text answer here"
   ]
  },
  {
   "cell_type": "code",
   "execution_count": null,
   "id": "2f0c6f15",
   "metadata": {},
   "outputs": [],
   "source": [
    "# Place code here to use the model and show performance results"
   ]
  },
  {
   "cell_type": "markdown",
   "id": "b90ca7ed",
   "metadata": {},
   "source": [
    "# Model 2"
   ]
  },
  {
   "cell_type": "markdown",
   "id": "05a4d8c1",
   "metadata": {},
   "source": [
    "## Outline the challenge"
   ]
  },
  {
   "cell_type": "markdown",
   "id": "05a58532",
   "metadata": {},
   "source": [
    "Place Answer here"
   ]
  },
  {
   "cell_type": "markdown",
   "id": "f5a3eef1",
   "metadata": {},
   "source": [
    "### Select the features and note in comments why they were selected"
   ]
  },
  {
   "cell_type": "code",
   "execution_count": null,
   "id": "fc50ca83",
   "metadata": {},
   "outputs": [],
   "source": [
    "# Show the code for data ingest and feature selection"
   ]
  },
  {
   "cell_type": "markdown",
   "id": "a5aa9845",
   "metadata": {},
   "source": [
    "### Model Selection"
   ]
  },
  {
   "cell_type": "markdown",
   "id": "7e648bbf",
   "metadata": {},
   "source": [
    "Outline the rationale for selecting the model noting how its capabilities address your challenge"
   ]
  },
  {
   "cell_type": "markdown",
   "id": "492a5565",
   "metadata": {},
   "source": [
    "Place text answer here"
   ]
  },
  {
   "cell_type": "code",
   "execution_count": 1,
   "id": "793b1977",
   "metadata": {},
   "outputs": [],
   "source": [
    "# Place code here to use the model and show performance results"
   ]
  }
 ],
 "metadata": {
  "kernelspec": {
   "display_name": "Python 3 (ipykernel)",
   "language": "python",
   "name": "python3"
  },
  "language_info": {
   "codemirror_mode": {
    "name": "ipython",
    "version": 3
   },
   "file_extension": ".py",
   "mimetype": "text/x-python",
   "name": "python",
   "nbconvert_exporter": "python",
   "pygments_lexer": "ipython3",
   "version": "3.10.6"
  }
 },
 "nbformat": 4,
 "nbformat_minor": 5
}
